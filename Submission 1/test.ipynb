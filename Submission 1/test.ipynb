{
 "cells": [
  {
   "cell_type": "code",
   "execution_count": 1,
   "metadata": {
    "scrolled": true
   },
   "outputs": [
    {
     "ename": "ImportError",
     "evalue": "Matplotlib requires numpy>=1.23; you have 1.22.4",
     "output_type": "error",
     "traceback": [
      "\u001b[1;31m---------------------------------------------------------------------------\u001b[0m",
      "\u001b[1;31mImportError\u001b[0m                               Traceback (most recent call last)",
      "\u001b[1;32m~\\AppData\\Local\\Temp\\ipykernel_13068\\1077632875.py\u001b[0m in \u001b[0;36m<cell line: 5>\u001b[1;34m()\u001b[0m\n\u001b[0;32m      3\u001b[0m \u001b[1;32mimport\u001b[0m \u001b[0mnumpy\u001b[0m \u001b[1;32mas\u001b[0m \u001b[0mnp\u001b[0m\u001b[1;33m\u001b[0m\u001b[1;33m\u001b[0m\u001b[0m\n\u001b[0;32m      4\u001b[0m \u001b[1;32mimport\u001b[0m \u001b[0mjson\u001b[0m\u001b[1;33m\u001b[0m\u001b[1;33m\u001b[0m\u001b[0m\n\u001b[1;32m----> 5\u001b[1;33m \u001b[1;32mimport\u001b[0m \u001b[0mmatplotlib\u001b[0m\u001b[1;33m.\u001b[0m\u001b[0mpyplot\u001b[0m \u001b[1;32mas\u001b[0m \u001b[0mplt\u001b[0m\u001b[1;33m\u001b[0m\u001b[1;33m\u001b[0m\u001b[0m\n\u001b[0m",
      "\u001b[1;32m~\\anaconda3\\envs\\mlops-tfx\\lib\\site-packages\\matplotlib\\__init__.py\u001b[0m in \u001b[0;36m<module>\u001b[1;34m\u001b[0m\n\u001b[0;32m    261\u001b[0m \u001b[1;33m\u001b[0m\u001b[0m\n\u001b[0;32m    262\u001b[0m \u001b[1;33m\u001b[0m\u001b[0m\n\u001b[1;32m--> 263\u001b[1;33m \u001b[0m_check_versions\u001b[0m\u001b[1;33m(\u001b[0m\u001b[1;33m)\u001b[0m\u001b[1;33m\u001b[0m\u001b[1;33m\u001b[0m\u001b[0m\n\u001b[0m\u001b[0;32m    264\u001b[0m \u001b[1;33m\u001b[0m\u001b[0m\n\u001b[0;32m    265\u001b[0m \u001b[1;33m\u001b[0m\u001b[0m\n",
      "\u001b[1;32m~\\anaconda3\\envs\\mlops-tfx\\lib\\site-packages\\matplotlib\\__init__.py\u001b[0m in \u001b[0;36m_check_versions\u001b[1;34m()\u001b[0m\n\u001b[0;32m    257\u001b[0m         \u001b[0mmodule\u001b[0m \u001b[1;33m=\u001b[0m \u001b[0mimportlib\u001b[0m\u001b[1;33m.\u001b[0m\u001b[0mimport_module\u001b[0m\u001b[1;33m(\u001b[0m\u001b[0mmodname\u001b[0m\u001b[1;33m)\u001b[0m\u001b[1;33m\u001b[0m\u001b[1;33m\u001b[0m\u001b[0m\n\u001b[0;32m    258\u001b[0m         \u001b[1;32mif\u001b[0m \u001b[0mparse_version\u001b[0m\u001b[1;33m(\u001b[0m\u001b[0mmodule\u001b[0m\u001b[1;33m.\u001b[0m\u001b[0m__version__\u001b[0m\u001b[1;33m)\u001b[0m \u001b[1;33m<\u001b[0m \u001b[0mparse_version\u001b[0m\u001b[1;33m(\u001b[0m\u001b[0mminver\u001b[0m\u001b[1;33m)\u001b[0m\u001b[1;33m:\u001b[0m\u001b[1;33m\u001b[0m\u001b[1;33m\u001b[0m\u001b[0m\n\u001b[1;32m--> 259\u001b[1;33m             raise ImportError(f\"Matplotlib requires {modname}>={minver}; \"\n\u001b[0m\u001b[0;32m    260\u001b[0m                               f\"you have {module.__version__}\")\n\u001b[0;32m    261\u001b[0m \u001b[1;33m\u001b[0m\u001b[0m\n",
      "\u001b[1;31mImportError\u001b[0m: Matplotlib requires numpy>=1.23; you have 1.22.4"
     ]
    }
   ],
   "source": [
    "import requests\n",
    "import tensorflow as tf\n",
    "import numpy as np\n",
    "import json\n",
    "import matplotlib.pyplot as plt"
   ]
  },
  {
   "cell_type": "code",
   "execution_count": 3,
   "metadata": {},
   "outputs": [],
   "source": [
    "import pandas as pd\n",
    "data = {\n",
    "    \"infoavail\": [3, 3, 5, 5, 5, 5, 3, 5, 4, 4, 3, 4, 5, 4, 4, 3, 5, 5, 5, 4, 4, 4, 4, 4, 5, 4, 3, 3],\n",
    "    \"housecost\": [3, 2, 3, 4, 4, 5, 1, 4, 1, 4, 2, 4, 2, 2, 1, 2, 3, 1, 1, 2, 2, 2, 3, 3, 1, 3, 4, 4],\n",
    "    \"schoolquality\": [3, 3, 3, 3, 3, 3, 2, 4, 4, 4, 3, 3, 4, 4, 3, 4, 4, 4, 2, 4, 3, 3, 5, 5, 2, 3, 3, 3],\n",
    "    \"policetrust\": [4, 5, 3, 3, 3, 5, 2, 4, 4, 2, 3, 4, 5, 5, 3, 3, 5, 4, 4, 4, 3, 3, 5, 5, 5, 3, 3, 3],\n",
    "    \"streetquality\": [2, 4, 3, 3, 3, 5, 1, 4, 4, 5, 2, 4, 5, 4, 4, 4, 4, 4, 4, 4, 4, 4, 5, 5, 2, 3, 2, 2],\n",
    "    \"events\": [4, 3, 5, 5, 5, 5, 3, 5, 4, 5, 3, 4, 5, 3, 3, 4, 5, 5, 5, 4, 4, 4, 4, 4, 5, 4, 3, 3],\n",
    "    \"happy\": [0, 0, 1, 0, 0, 1, 0, 1, 0, 0, 0, 0, 1, 0, 0, 1, 0, 1, 0, 0, 1, 1, 0, 0, 1, 1, 0, 0]\n",
    "}\n",
    "df = pd.DataFrame(data)\n",
    "\n",
    "# Memisahkan fitur dan label\n",
    "X = df.drop(\"happy\", axis=1)\n",
    "y = df[\"happy\"]\n"
   ]
  },
  {
   "cell_type": "code",
   "execution_count": 4,
   "metadata": {},
   "outputs": [
    {
     "name": "stdout",
     "output_type": "stream",
     "text": [
      "Contoh Data:\n",
      "infoavail        3\n",
      "housecost        2\n",
      "schoolquality    3\n",
      "policetrust      3\n",
      "streetquality    2\n",
      "events           3\n",
      "Name: 10, dtype: int64\n",
      "Label: 0\n"
     ]
    }
   ],
   "source": [
    "# Menampilkan salah satu contoh data\n",
    "index = 10  # Ganti dengan indeks yang diinginkan\n",
    "example_data = X.iloc[index]\n",
    "example_label = y.iloc[index]\n",
    "\n",
    "# Menampilkan data\n",
    "print(\"Contoh Data:\")\n",
    "print(example_data)\n",
    "print(\"Label: \" + str(example_label))"
   ]
  },
  {
   "cell_type": "markdown",
   "metadata": {},
   "source": [
    "## Make prediction request"
   ]
  },
  {
   "cell_type": "code",
   "execution_count": 8,
   "metadata": {},
   "outputs": [
    {
     "name": "stdout",
     "output_type": "stream",
     "text": [
      "Error: 500 <!doctype html>\n",
      "<html lang=en>\n",
      "<title>500 Internal Server Error</title>\n",
      "<h1>Internal Server Error</h1>\n",
      "<p>The server encountered an internal error and was unable to complete your request. Either the server is overloaded or there is an error in the application.</p>\n",
      "\n"
     ]
    }
   ],
   "source": [
    "import json\n",
    "import requests\n",
    "import numpy as np\n",
    "\n",
    "# Membuat data gambar dummy 28x28\n",
    "image = np.random.rand(28, 28).tolist()  # Pastikan ini sesuai dengan format yang diharapkan\n",
    "\n",
    "# Mengonversi data gambar menjadi JSON\n",
    "json_data = json.dumps(\n",
    "    {\n",
    "        \"data\": image  # Pastikan 'image' adalah array yang sesuai\n",
    "    }\n",
    ")\n",
    "\n",
    "# Endpoint API\n",
    "endpoint = \"http://127.0.0.1:5000/predict\"\n",
    "headers = {\"content-type\": \"application/json\"}\n",
    "\n",
    "# Mengirim permintaan POST ke API\n",
    "response = requests.post(endpoint, data=json_data, headers=headers)\n",
    "\n",
    "# Mengambil hasil prediksi dari respons\n",
    "if response.status_code == 200:\n",
    "    prediction_result = response.json()[\"prediction\"]\n",
    "    print(\"Prediction Result:\", prediction_result)\n",
    "else:\n",
    "    print(\"Error:\", response.status_code, response.text)"
   ]
  },
  {
   "cell_type": "code",
   "execution_count": 14,
   "metadata": {},
   "outputs": [
    {
     "name": "stdout",
     "output_type": "stream",
     "text": [
      "Prediction Result: Class 0\n"
     ]
    }
   ],
   "source": [
    "import json\n",
    "import requests\n",
    "import pandas as pd\n",
    "import numpy as np\n",
    "\n",
    "# Membuat DataFrame dari data yang diberikan\n",
    "data = {\n",
    "    \"infoavail\": [3, 3, 5, 5, 5, 5, 3, 5, 4, 4, 3, 4, 5, 4, 4, 3, 5, 5, 5, 4, 4, 4, 4, 4, 5, 4, 3, 3],\n",
    "    \"housecost\": [3, 2, 3, 4, 4, 5, 1, 4, 1, 4, 2, 4, 2, 2, 1, 2, 3, 1, 1, 2, 2, 2, 3, 3, 1, 3, 4, 4],\n",
    "    \"schoolquality\": [3, 3, 3, 3, 3, 3, 2, 4, 4, 4, 3, 3, 4, 4, 3, 4, 4, 4, 2, 4, 3, 3, 5, 5, 2, 3, 3, 3],\n",
    "    \"policetrust\": [4, 5, 3, 3, 3, 5, 2, 4, 4, 2, 3, 4, 5, 5, 3, 3, 5, 4, 4, 4, 3, 3, 5, 5, 5, 3, 3, 3],\n",
    "    \"streetquality\": [2, 4, 3, 3, 3, 5, 1, 4, 4, 5, 2, 4, 5, 4, 4, 4, 4, 4, 4, 4, 4, 4, 5, 5, 2, 3, 2, 2],\n",
    "    \"events\": [4, 3, 5, 5, 5, 5, 3, 5, 4, 5, 3, 4, 5, 3, 3, 4, 5, 5, 5, 4, 4, 4, 4, 4, 5, 4, 3, 3],\n",
    "    \"happy\": [0, 0, 1, 0, 0, 1, 0, 1, 0, 0, 0, 0, 1, 0, 0, 1, 0, 1, 0, 0, 1, 1, 0, 0, 1, 1, 0, 0]\n",
    "}\n",
    "\n",
    "# Membuat DataFrame dari data\n",
    "df = pd.DataFrame(data)\n",
    "\n",
    "# Memisahkan fitur (X) dari label (y)\n",
    "X = df.drop(\"happy\", axis=1)\n",
    "\n",
    "# Mengonversi data fitur menjadi format yang sesuai untuk pengujian\n",
    "# Menggunakan data dari baris pertama sebagai contoh\n",
    "test_data = X.iloc[0].values.tolist()  # Mengambil data dari baris pertama dan mengubahnya menjadi list\n",
    "\n",
    "# Mengonversi data fitur menjadi JSON dengan format yang diharapkan oleh model\n",
    "json_data = json.dumps({\n",
    "    \"data\": {\n",
    "        \"events_xf\": test_data[5],\n",
    "        \"housecost_xf\": test_data[1],\n",
    "        \"infoavail_xf\": test_data[0],\n",
    "        \"policetrust_xf\": test_data[3],\n",
    "        \"schoolquality_xf\": test_data[2],\n",
    "        \"streetquality_xf\": test_data[4]\n",
    "    }\n",
    "})\n",
    "\n",
    "# Endpoint API\n",
    "endpoint = \"http://127.0.0.1:5000/predict\"\n",
    "headers = {\"content-type\": \"application/json\"}\n",
    "\n",
    "# Mengirim permintaan POST ke API\n",
    "response = requests.post(endpoint, data=json_data, headers=headers)\n",
    "\n",
    "# Mengambil hasil prediksi dari respons\n",
    "if response.status_code == 200:\n",
    "    prediction_result = response.json()[\"prediction\"]\n",
    "    print(\"Prediction Result:\", prediction_result)\n",
    "else:\n",
    "    print(\"Error:\", response.status_code, response.text)"
   ]
  },
  {
   "cell_type": "code",
   "execution_count": null,
   "metadata": {},
   "outputs": [],
   "source": []
  }
 ],
 "metadata": {
  "kernelspec": {
   "display_name": "Python 3 (ipykernel)",
   "language": "python",
   "name": "python3"
  },
  "language_info": {
   "codemirror_mode": {
    "name": "ipython",
    "version": 3
   },
   "file_extension": ".py",
   "mimetype": "text/x-python",
   "name": "python",
   "nbconvert_exporter": "python",
   "pygments_lexer": "ipython3",
   "version": "3.9.0"
  },
  "vscode": {
   "interpreter": {
    "hash": "972b3bf27e332e87b5379f2791f6ef9dfc79c71018c370b0d7423235e20fe4d7"
   }
  }
 },
 "nbformat": 4,
 "nbformat_minor": 2
}
